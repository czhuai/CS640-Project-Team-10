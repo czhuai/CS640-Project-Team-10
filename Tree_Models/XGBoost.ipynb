{
  "cells": [
    {
      "cell_type": "code",
      "source": [
        "from google.colab import drive\n",
        "drive.mount('/content/drive')"
      ],
      "metadata": {
        "colab": {
          "base_uri": "https://localhost:8080/"
        },
        "id": "Uug-oSrQlLpu",
        "outputId": "f2396c77-9dde-461f-8fa0-ce8827693b8f"
      },
      "execution_count": null,
      "outputs": [
        {
          "output_type": "stream",
          "name": "stdout",
          "text": [
            "Mounted at /content/drive\n"
          ]
        }
      ]
    },
    {
      "cell_type": "code",
      "source": [
        "import os\n",
        "os.chdir(\"/content/drive/MyDrive/Trees\")"
      ],
      "metadata": {
        "id": "LryP_Jk2lJRO"
      },
      "execution_count": null,
      "outputs": []
    },
    {
      "cell_type": "code",
      "execution_count": null,
      "metadata": {
        "id": "V5A5quPcN_SK"
      },
      "outputs": [],
      "source": [
        "import pandas as pd\n",
        "import numpy as np\n",
        "\n",
        "#Importing libraries  for visualisation of data\n",
        "import matplotlib\n",
        "import seaborn as sns\n",
        "import matplotlib.pyplot as plt\n",
        "matplotlib.rcParams.update({'font.size': 12})\n",
        "\n",
        "#Importing sklearn libraries for modelling and evaluation\n",
        "\n",
        "from sklearn.model_selection import RandomizedSearchCV\n",
        "from sklearn.model_selection import cross_val_score\n",
        "from sklearn.model_selection import train_test_split\n",
        "from sklearn.metrics import mean_squared_error as mse\n",
        "\n",
        "\n",
        "from sklearn.preprocessing import MinMaxScaler ## Importing the MinMax Scaler\n",
        "\n",
        "from sklearn.metrics import accuracy_score, confusion_matrix, classification_report, f1_score, roc_curve, roc_auc_score, auc, mean_squared_log_error\n",
        "\n",
        "\n",
        "#importing all the important libraries\n",
        "#Importing XGBoost module\n",
        "import xgboost as xgb \n",
        "from xgboost import plot_importance\n",
        "from xgboost import XGBRegressor #For modelling train data to predict Sales"
      ]
    },
    {
      "cell_type": "code",
      "execution_count": null,
      "metadata": {
        "colab": {
          "base_uri": "https://localhost:8080/"
        },
        "id": "M2Hpg8CBN_SO",
        "outputId": "b8bd6d37-e134-45fb-af0c-880f3c497e4d"
      },
      "outputs": [
        {
          "output_type": "stream",
          "name": "stdout",
          "text": [
            "training data     (127, 3) (127,)\n",
            "test data         (23, 3) (23,)\n"
          ]
        }
      ],
      "source": [
        "ppf = pd.read_csv('Scores.csv')\n",
        "\n",
        "X = ppf.drop([\"Originality\"],axis=1)\n",
        "y = ppf[\"Originality\"]\n",
        "\n",
        "\n",
        "train_x,test_x,train_y,test_y = train_test_split(X,y, test_size=0.15, random_state = 50)\n",
        "\n",
        "print('training data    ',train_x.shape,train_y.shape)\n",
        "print('test data        ',test_x.shape,test_y.shape)"
      ]
    },
    {
      "cell_type": "markdown",
      "metadata": {
        "id": "UnI0Nmi2N_SP"
      },
      "source": [
        "XGBOOST"
      ]
    },
    {
      "cell_type": "code",
      "execution_count": null,
      "metadata": {
        "id": "cadmSEymN_SQ"
      },
      "outputs": [],
      "source": [
        "params0 = {\"objective\": \"reg:linear\",          \n",
        "        \"booster\" : \"gbtree\",\n",
        "          \"eta\": 0.05,\n",
        "          \"max_depth\": 6,\n",
        "          \"subsample\": 0.95,\n",
        "          \"colsample_bytree\": 0.9,\n",
        "          \"silent\": 1,\n",
        "          \"seed\": 50}\n",
        "\n",
        "#   \n",
        "num_round0 = 600\n",
        "\n",
        "\n",
        "dtrain = xgb.DMatrix(train_x, train_y)\n",
        "dvalid = xgb.DMatrix(test_x, test_y)\n",
        "# We will assign the \"evals\" parameter the value watchlist which is a requirement for early_stopping_rounds\n",
        "evals0 = [(dtrain, 'train'), (dvalid, 'val')] "
      ]
    },
    {
      "cell_type": "code",
      "execution_count": null,
      "metadata": {
        "colab": {
          "base_uri": "https://localhost:8080/"
        },
        "id": "SwQ1uLXiN_ST",
        "outputId": "cac80c6a-9f6b-4212-8de0-4223b0f574a3"
      },
      "outputs": [
        {
          "output_type": "stream",
          "name": "stdout",
          "text": [
            "[07:56:16] WARNING: ../src/objective/regression_obj.cu:213: reg:linear is now deprecated in favor of reg:squarederror.\n",
            "[07:56:16] WARNING: ../src/learner.cc:767: \n",
            "Parameters: { \"silent\" } are not used.\n",
            "\n",
            "[0]\ttrain-rmse:0.33611\tval-rmse:0.33439\n",
            "[1]\ttrain-rmse:0.32538\tval-rmse:0.32527\n",
            "[2]\ttrain-rmse:0.31349\tval-rmse:0.31843\n",
            "[3]\ttrain-rmse:0.30345\tval-rmse:0.31588\n",
            "[4]\ttrain-rmse:0.29387\tval-rmse:0.30874\n",
            "[5]\ttrain-rmse:0.28494\tval-rmse:0.30658\n",
            "[6]\ttrain-rmse:0.27654\tval-rmse:0.30033\n",
            "[7]\ttrain-rmse:0.26840\tval-rmse:0.29851\n",
            "[8]\ttrain-rmse:0.26041\tval-rmse:0.29606\n",
            "[9]\ttrain-rmse:0.25140\tval-rmse:0.29283\n",
            "[10]\ttrain-rmse:0.24416\tval-rmse:0.29168\n",
            "[11]\ttrain-rmse:0.23560\tval-rmse:0.28912\n",
            "[12]\ttrain-rmse:0.22936\tval-rmse:0.28601\n",
            "[13]\ttrain-rmse:0.22341\tval-rmse:0.28285\n",
            "[14]\ttrain-rmse:0.21607\tval-rmse:0.28119\n",
            "[15]\ttrain-rmse:0.20887\tval-rmse:0.28091\n",
            "[16]\ttrain-rmse:0.20372\tval-rmse:0.27726\n",
            "[17]\ttrain-rmse:0.19802\tval-rmse:0.27674\n",
            "[18]\ttrain-rmse:0.19187\tval-rmse:0.27450\n",
            "[19]\ttrain-rmse:0.18580\tval-rmse:0.27460\n",
            "[20]\ttrain-rmse:0.18041\tval-rmse:0.27368\n",
            "[21]\ttrain-rmse:0.17499\tval-rmse:0.27246\n",
            "[22]\ttrain-rmse:0.17094\tval-rmse:0.27101\n",
            "[23]\ttrain-rmse:0.16713\tval-rmse:0.26998\n",
            "[24]\ttrain-rmse:0.16364\tval-rmse:0.26898\n",
            "[25]\ttrain-rmse:0.16022\tval-rmse:0.26736\n",
            "[26]\ttrain-rmse:0.15684\tval-rmse:0.26673\n",
            "[27]\ttrain-rmse:0.15342\tval-rmse:0.26664\n",
            "[28]\ttrain-rmse:0.14932\tval-rmse:0.26577\n",
            "[29]\ttrain-rmse:0.14506\tval-rmse:0.26588\n",
            "[30]\ttrain-rmse:0.14157\tval-rmse:0.26543\n",
            "[31]\ttrain-rmse:0.13888\tval-rmse:0.26506\n",
            "[32]\ttrain-rmse:0.13557\tval-rmse:0.26502\n",
            "[33]\ttrain-rmse:0.13319\tval-rmse:0.26415\n",
            "[34]\ttrain-rmse:0.13106\tval-rmse:0.26410\n",
            "[35]\ttrain-rmse:0.12792\tval-rmse:0.26477\n",
            "[36]\ttrain-rmse:0.12507\tval-rmse:0.26465\n",
            "[37]\ttrain-rmse:0.12274\tval-rmse:0.26483\n",
            "[38]\ttrain-rmse:0.12057\tval-rmse:0.26439\n",
            "[39]\ttrain-rmse:0.11894\tval-rmse:0.26446\n",
            "[40]\ttrain-rmse:0.11661\tval-rmse:0.26465\n",
            "[41]\ttrain-rmse:0.11449\tval-rmse:0.26458\n",
            "[42]\ttrain-rmse:0.11229\tval-rmse:0.26467\n",
            "[43]\ttrain-rmse:0.11051\tval-rmse:0.26465\n",
            "[44]\ttrain-rmse:0.10906\tval-rmse:0.26511\n",
            "[45]\ttrain-rmse:0.10731\tval-rmse:0.26436\n",
            "[46]\ttrain-rmse:0.10571\tval-rmse:0.26527\n",
            "[47]\ttrain-rmse:0.10365\tval-rmse:0.26558\n",
            "[48]\ttrain-rmse:0.10164\tval-rmse:0.26622\n",
            "[49]\ttrain-rmse:0.09979\tval-rmse:0.26671\n",
            "[50]\ttrain-rmse:0.09859\tval-rmse:0.26731\n",
            "[51]\ttrain-rmse:0.09745\tval-rmse:0.26748\n",
            "[52]\ttrain-rmse:0.09595\tval-rmse:0.26832\n",
            "[53]\ttrain-rmse:0.09408\tval-rmse:0.26887\n",
            "[54]\ttrain-rmse:0.09231\tval-rmse:0.26935\n",
            "[55]\ttrain-rmse:0.09085\tval-rmse:0.26984\n",
            "[56]\ttrain-rmse:0.09005\tval-rmse:0.27003\n",
            "[57]\ttrain-rmse:0.08841\tval-rmse:0.27041\n",
            "[58]\ttrain-rmse:0.08765\tval-rmse:0.27059\n",
            "[59]\ttrain-rmse:0.08683\tval-rmse:0.27048\n",
            "[60]\ttrain-rmse:0.08545\tval-rmse:0.27050\n",
            "[61]\ttrain-rmse:0.08438\tval-rmse:0.27054\n",
            "[62]\ttrain-rmse:0.08317\tval-rmse:0.27069\n",
            "[63]\ttrain-rmse:0.08249\tval-rmse:0.27088\n",
            "[64]\ttrain-rmse:0.08128\tval-rmse:0.27144\n"
          ]
        }
      ],
      "source": [
        "xgbmodel = xgb.train(params0, dtrain, num_round0, evals=evals0, early_stopping_rounds=30, verbose_eval=True)"
      ]
    },
    {
      "cell_type": "code",
      "execution_count": null,
      "metadata": {
        "id": "bGDjgg2TN_SU"
      },
      "outputs": [],
      "source": [
        "ypreds = xgbmodel.predict(xgb.DMatrix(test_x))"
      ]
    },
    {
      "cell_type": "code",
      "execution_count": null,
      "metadata": {
        "colab": {
          "base_uri": "https://localhost:8080/"
        },
        "id": "-wtwAs-zN_SW",
        "outputId": "03c73dd4-2ffc-43dd-cbab-ffe1be555155"
      },
      "outputs": [
        {
          "output_type": "stream",
          "name": "stdout",
          "text": [
            "[0.41214532 0.30464828 0.41732228 0.13507977 0.42881927]\n",
            "88     0.458\n",
            "72     0.675\n",
            "20     0.000\n",
            "16     0.099\n",
            "147    1.000\n",
            "Name: Originality, dtype: float64\n"
          ]
        }
      ],
      "source": [
        "print(ypreds[:5])\n",
        "print(test_y[:5])"
      ]
    },
    {
      "cell_type": "code",
      "execution_count": null,
      "metadata": {
        "colab": {
          "base_uri": "https://localhost:8080/"
        },
        "id": "VVdwsvg7N_SW",
        "outputId": "05d7c920-db78-40cc-ed41-52a1b8dc99cf"
      },
      "outputs": [
        {
          "output_type": "execute_result",
          "data": {
            "text/plain": [
              "0.07367945327722941"
            ]
          },
          "metadata": {},
          "execution_count": 53
        }
      ],
      "source": [
        "error = (mse(test_y, ypreds))\n",
        "error"
      ]
    }
  ],
  "metadata": {
    "language_info": {
      "name": "python"
    },
    "orig_nbformat": 4,
    "colab": {
      "provenance": []
    },
    "kernelspec": {
      "name": "python3",
      "display_name": "Python 3"
    },
    "gpuClass": "standard"
  },
  "nbformat": 4,
  "nbformat_minor": 0
}